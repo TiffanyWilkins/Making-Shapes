{
 "cells": [
  {
   "cell_type": "code",
   "execution_count": 8,
   "id": "a3beb176",
   "metadata": {},
   "outputs": [
    {
     "name": "stdout",
     "output_type": "stream",
     "text": [
      "* * * * \n",
      "* * * * \n",
      "* * * * \n",
      "* * * * \n"
     ]
    }
   ],
   "source": [
    "# Define the number of rows and columns\n",
    "rows = 4\n",
    "columns = 4\n",
    "\n",
    "# Outer loop for rows\n",
    "for i in range(rows):\n",
    "    # Inner loop for columns\n",
    "    for j in range(columns):\n",
    "        # Print a star without a newline\n",
    "        print(\"*\", end=\" \")\n",
    "    # Move to the next line after printing a row of stars\n",
    "    print()\n",
    "\n"
   ]
  },
  {
   "cell_type": "code",
   "execution_count": 9,
   "id": "280da2ee",
   "metadata": {},
   "outputs": [
    {
     "name": "stdout",
     "output_type": "stream",
     "text": [
      "*********\n",
      " *     *\n",
      "  *   *\n",
      "   * *\n",
      "    *\n"
     ]
    }
   ],
   "source": [
    "# Define the number of rows for the inverted pyramid\n",
    "rows = 5\n",
    "\n",
    "# Outer loop for rows (from top to bottom)\n",
    "for i in range(rows, 0, -1):\n",
    "    # Inner loop for spaces before stars\n",
    "    for j in range(0, rows - i):\n",
    "        print(\" \", end=\"\")\n",
    "\n",
    "    # Inner loop for the stars and hollow spaces\n",
    "    for j in range(1, 2 * i):\n",
    "        if j == 1 or j == 2 * i - 1 or i == rows:\n",
    "            print(\"*\", end=\"\")\n",
    "        else:\n",
    "            print(\" \", end=\"\")\n",
    "\n",
    "    # Move to the next line after printing each row\n",
    "    print()\n",
    "\n",
    "    "
   ]
  },
  {
   "cell_type": "code",
   "execution_count": 10,
   "id": "3448aafd",
   "metadata": {},
   "outputs": [
    {
     "name": "stdout",
     "output_type": "stream",
     "text": [
      "* * * * * \n",
      "*       * \n",
      "*       * \n",
      "*       * \n",
      "* * * * * \n"
     ]
    }
   ],
   "source": [
    "# Define the size of the square\n",
    "size = 5\n",
    "\n",
    "# Outer loop for rows\n",
    "for i in range(size):\n",
    "    # Inner loop for columns\n",
    "    for j in range(size):\n",
    "        # Check if it's the first or last row, or the first or last column\n",
    "        if i == 0 or i == size - 1 or j == 0 or j == size - 1:\n",
    "            print(\"*\", end=\" \")\n",
    "        else:\n",
    "            print(\" \", end=\" \")\n",
    "    # Move to the next line after each row\n",
    "    print()\n"
   ]
  },
  {
   "cell_type": "code",
   "execution_count": 12,
   "id": "6e1c9e08",
   "metadata": {},
   "outputs": [
    {
     "name": "stdout",
     "output_type": "stream",
     "text": [
      " *****\n",
      "  *****\n",
      "   *****\n",
      "    *****\n"
     ]
    }
   ],
   "source": [
    "# Define the number of rows for the rhombus\n",
    "rows = 5\n",
    "\n",
    "\n",
    "\n",
    "# Lower part of the rhombus\n",
    "for i in range(rows - 1, 0, -1):\n",
    "    # Print leading spaces\n",
    "    for j in range(1, rows - i + 1):\n",
    "        print(\" \", end=\"\")\n",
    "    \n",
    "    # Print stars\n",
    "    for k in range(1, rows + 1):\n",
    "        print(\"*\", end=\"\")\n",
    "    \n",
    "    # Move to the next line\n",
    "    print()\n"
   ]
  },
  {
   "cell_type": "code",
   "execution_count": 13,
   "id": "a09b1dcc",
   "metadata": {},
   "outputs": [
    {
     "name": "stdout",
     "output_type": "stream",
     "text": [
      "    *\n",
      "   ***\n",
      "  *****\n",
      " *******\n",
      "*********\n"
     ]
    }
   ],
   "source": [
    "# Define the number of rows for the pyramid\n",
    "rows = 5\n",
    "\n",
    "# Outer loop for rows (from top to bottom)\n",
    "for i in range(1, rows + 1):\n",
    "    # Inner loop for spaces before stars\n",
    "    for j in range(rows - i):\n",
    "        print(\" \", end=\"\")\n",
    "    \n",
    "    # Inner loop for stars\n",
    "    for k in range(2 * i - 1):\n",
    "        print(\"*\", end=\"\")\n",
    "    \n",
    "    # Move to the next line after printing each row\n",
    "    print()\n",
    "\n",
    "    "
   ]
  },
  {
   "cell_type": "code",
   "execution_count": null,
   "id": "150a5bc4",
   "metadata": {},
   "outputs": [],
   "source": []
  }
 ],
 "metadata": {
  "kernelspec": {
   "display_name": "Python 3 (ipykernel)",
   "language": "python",
   "name": "python3"
  },
  "language_info": {
   "codemirror_mode": {
    "name": "ipython",
    "version": 3
   },
   "file_extension": ".py",
   "mimetype": "text/x-python",
   "name": "python",
   "nbconvert_exporter": "python",
   "pygments_lexer": "ipython3",
   "version": "3.11.3"
  }
 },
 "nbformat": 4,
 "nbformat_minor": 5
}
